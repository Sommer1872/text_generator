{
 "cells": [
  {
   "cell_type": "markdown",
   "metadata": {},
   "source": [
    "# Text Generation\n"
   ]
  },
  {
   "cell_type": "code",
   "execution_count": 1,
   "metadata": {
    "collapsed": true
   },
   "outputs": [],
   "source": [
    "import os\n",
    "import pickle\n",
    "\n",
    "import numpy as np\n",
    "import tensorflow"
   ]
  },
  {
   "cell_type": "markdown",
   "metadata": {},
   "source": [
    "## Helper functions"
   ]
  },
  {
   "cell_type": "markdown",
   "metadata": {},
   "source": [
    "### Tokenize Punctuation\n",
    "We'll be splitting the script into a word array using spaces as delimiters.  However, punctuations like periods and exclamation marks make it hard for the neural network to distinguish between the word \"bye\" and \"bye!\".\n",
    "\n",
    "Implement the function `token_lookup` to return a dict that will be used to tokenize symbols like \"!\" into \"||Exclamation_Mark||\".  Create a dictionary for the following symbols where the symbol is the key and value is the token:\n",
    "- Period ( . )\n",
    "- Comma ( , )\n",
    "- Quotation Mark ( \" )\n",
    "- Semicolon ( ; )\n",
    "- Exclamation mark ( ! )\n",
    "- Question mark ( ? )\n",
    "- Left Parentheses ( ( )\n",
    "- Right Parentheses ( ) )\n",
    "- Dash ( -- )\n",
    "- Return ( \\n )\n",
    "\n",
    "This dictionary will be used to token the symbols and add the delimiter (space) around it.  This separates the symbols as it's own word, making it easier for the neural network to predict on the next word. Make sure you don't use a token that could be confused as a word. Instead of using the token \"dash\", try using something like \"||dash||\"."
   ]
  },
  {
   "cell_type": "code",
   "execution_count": 2,
   "metadata": {
    "collapsed": true
   },
   "outputs": [],
   "source": [
    "def load_data(path):\n",
    "    \"\"\"\n",
    "    Load Dataset from File\n",
    "    \"\"\"\n",
    "    input_file = os.path.join(path)\n",
    "    with open(input_file, \"r\") as f:\n",
    "        data = f.read()\n",
    "\n",
    "    return data\n",
    "\n",
    "def token_lookup():\n",
    "    \"\"\"\n",
    "    Generate a dict to turn punctuation into a token.\n",
    "    :return: Tokenize dictionary where the key is the punctuation and the value is the token\n",
    "    \"\"\"\n",
    "    # TODO: Implement Function\n",
    "    tokenize = {\n",
    "        '.':'||period||',\n",
    "        ',':'||comma||',\n",
    "        '\"':'||quotation_mark||',\n",
    "        ';':'||semicolon||',\n",
    "        '!':'||exclamation_mark||',\n",
    "        '?':'||question_mark||',\n",
    "        '(':'||left_parentheses||',\n",
    "        ')':'||right_parentheses||',\n",
    "        '--':'||dash||',\n",
    "        '\\n':'||return||'\n",
    "    }\n",
    "    return tokenize\n",
    "\n",
    "def preprocess_and_save_data(dataset_path, token_lookup, create_lookup_tables):\n",
    "    \"\"\"\n",
    "    Preprocess Text Data\n",
    "    \"\"\"\n",
    "    text = load_data(dataset_path)\n",
    "    \n",
    "    # Ignore notice, since we don't use it for analysing the data\n",
    "    text = text[81:]\n",
    "\n",
    "    token_dict = token_lookup()\n",
    "    for key, token in token_dict.items():\n",
    "        text = text.replace(key, ' {} '.format(token))\n",
    "\n",
    "    text = text.lower()\n",
    "    text = text.split()\n",
    "\n",
    "    vocab_to_int, int_to_vocab = create_lookup_tables(text)\n",
    "    int_text = [vocab_to_int[word] for word in text]\n",
    "    pickle.dump((int_text, vocab_to_int, int_to_vocab, token_dict), open('preprocess.p', 'wb'))\n",
    "\n",
    "\n",
    "def load_preprocess():\n",
    "    \"\"\"\n",
    "    Load the Preprocessed Training data and return them in batches of <batch_size> or less\n",
    "    \"\"\"\n",
    "    return pickle.load(open('preprocess.p', mode='rb'))\n",
    "\n",
    "\n",
    "def save_params(params):\n",
    "    \"\"\"\n",
    "    Save parameters to file\n",
    "    \"\"\"\n",
    "    pickle.dump(params, open('params.p', 'wb'))\n",
    "\n",
    "\n",
    "def load_params():\n",
    "    \"\"\"\n",
    "    Load parameters from file\n",
    "    \"\"\"\n",
    "    return pickle.load(open('params.p', mode='rb'))\n",
    "\n"
   ]
  },
  {
   "cell_type": "markdown",
   "metadata": {},
   "source": [
    "## Implement Preprocessing Functions\n",
    "The first thing to do to any dataset is preprocessing.  Implement the following preprocessing functions below:\n",
    "- Lookup Table\n",
    "- Tokenize Punctuation\n",
    "\n",
    "### Lookup Table\n",
    "To create a word embedding, you first need to transform the words to ids.  In this function, create two dictionaries:\n",
    "- Dictionary to go from the words to an id, we'll call `vocab_to_int`\n",
    "- Dictionary to go from the id to word, we'll call `int_to_vocab`\n",
    "\n",
    "Return these dictionaries in the following tuple `(vocab_to_int, int_to_vocab)`"
   ]
  },
  {
   "cell_type": "code",
   "execution_count": 3,
   "metadata": {
    "collapsed": true
   },
   "outputs": [],
   "source": [
    "def create_lookup_tables(text):\n",
    "    \"\"\"\n",
    "    Create lookup tables for vocabulary\n",
    "    :param text: The text of tv scripts split into words\n",
    "    :return: A tuple of dicts (vocab_to_int, int_to_vocab)\n",
    "    \"\"\"\n",
    "    # TODO: Implement Function\n",
    "    vocab = set(text)\n",
    "    vocab_to_int = {c: i for i, c in enumerate(vocab)}\n",
    "    int_to_vocab = dict(enumerate(vocab))\n",
    "    return vocab_to_int, int_to_vocab"
   ]
  },
  {
   "cell_type": "markdown",
   "metadata": {},
   "source": [
    "## Get the Data\n",
    "The data is already provided for you.  You'll be using a subset of the original dataset.  It consists of only the scenes in Moe's Tavern.  This doesn't include other versions of the tavern, like \"Moe's Cavern\", \"Flaming Moe's\", \"Uncle Moe's Family Feed-Bag\", etc.."
   ]
  },
  {
   "cell_type": "code",
   "execution_count": 4,
   "metadata": {
    "collapsed": true
   },
   "outputs": [],
   "source": [
    "data_dir = './data/anna.txt'\n",
    "text = load_data(data_dir)\n",
    "# Ignore notice, since we don't use it for analysing the data\n",
    "#text = text[81:]     #only relevant for the simpsons file"
   ]
  },
  {
   "cell_type": "markdown",
   "metadata": {},
   "source": [
    "## Explore the Data\n",
    "Play around with `view_sentence_range` to view different parts of the data."
   ]
  },
  {
   "cell_type": "code",
   "execution_count": 5,
   "metadata": {},
   "outputs": [
    {
     "name": "stdout",
     "output_type": "stream",
     "text": [
      "Dataset Stats\n",
      "Roughly the number of unique words: 29230\n",
      "Number of scenes: 7982\n",
      "Average number of sentences in each scene: 3.044475068905036\n",
      "Number of lines: 32283\n",
      "Average number of words in each line: 10.932348294768143\n",
      "\n",
      "The sentences 0 to 200:\n",
      "Chapter 1\n",
      "\n",
      "\n",
      "Happy families are all alike; every unhappy family is unhappy in its own\n",
      "way.\n",
      "\n",
      "Everything was in confusion in the Oblonskys' house. The wife had\n",
      "discovered that the husband was carrying on an intrigue with a French\n",
      "girl, who had been a governess in their family, and she had announced to\n",
      "her husband that she could not go on living in the same house with him.\n",
      "This position of affairs had now lasted three days, and not only the\n",
      "husband and wife themselves, but all the members of their family and\n",
      "household, were painfully conscious of it. Every person in the house\n",
      "felt that there was no sense in their living together, and that the\n",
      "stray people brought together by chance in any inn had more in common\n",
      "with one another than they, the members of the family and household of\n",
      "the Oblonskys. The wife did not leave her own room, the husband had not\n",
      "been at home for three days. The children ran wild all over the house;\n",
      "the English governess quarreled with the housekeeper, and wrote to a\n",
      "friend asking her to look out for a new situation for her; the man-cook\n",
      "had walked off the day before just at dinner time; the kitchen-maid, and\n",
      "the coachman had given warning.\n",
      "\n",
      "Three days after the quarrel, Prince Stepan Arkadyevitch\n",
      "Oblonsky--Stiva, as he was called in the fashionable world--woke up at\n",
      "his usual hour, that is, at eight o'clock in the morning, not in his\n",
      "wife's bedroom, but on the leather-covered sofa in his study. He turned\n",
      "over his stout, well-cared-for person on the springy sofa, as though he\n",
      "would sink into a long sleep again; he vigorously embraced the pillow on\n",
      "the other side and buried his face in it; but all at once he jumped up,\n",
      "sat up on the sofa, and opened his eyes.\n",
      "\n",
      "\"Yes, yes, how was it now?\" he thought, going over his dream. \"Now, how\n",
      "was it? To be sure! Alabin was giving a dinner at Darmstadt; no, not\n",
      "Darmstadt, but something American. Yes, but then, Darmstadt was in\n",
      "America. Yes, Alabin was giving a dinner on glass tables, and the tables\n",
      "sang, _Il mio tesoro_--not _Il mio tesoro_ though, but something better,\n",
      "and there were some sort of little decanters on the table, and they were\n",
      "women, too,\" he remembered.\n",
      "\n",
      "Stepan Arkadyevitch's eyes twinkled gaily, and he pondered with a smile.\n",
      "\"Yes, it was nice, very nice. There was a great deal more that was\n",
      "delightful, only there's no putting it into words, or even expressing it\n",
      "in one's thoughts awake.\" And noticing a gleam of light peeping in\n",
      "beside one of the serge curtains, he cheerfully dropped his feet over\n",
      "the edge of the sofa, and felt about with them for his slippers, a\n",
      "present on his last birthday, worked for him by his wife on gold-colored\n",
      "morocco. And, as he had done every day for the last nine years, he\n",
      "stretched out his hand, without getting up, towards the place where his\n",
      "dressing-gown always hung in his bedroom. And thereupon he suddenly\n",
      "remembered that he was not sleeping in his wife's room, but in his\n",
      "study, and why: the smile vanished from his face, he knitted his brows.\n",
      "\n",
      "\"Ah, ah, ah! Oo!...\" he muttered, recalling everything that had\n",
      "happened. And again every detail of his quarrel with his wife was\n",
      "present to his imagination, all the hopelessness of his position, and\n",
      "worst of all, his own fault.\n",
      "\n",
      "\"Yes, she won't forgive me, and she can't forgive me. And the most awful\n",
      "thing about it is that it's all my fault--all my fault, though I'm not\n",
      "to blame. That's the point of the whole situation,\" he reflected. \"Oh,\n",
      "oh, oh!\" he kept repeating in despair, as he remembered the acutely\n",
      "painful sensations caused him by this quarrel.\n",
      "\n",
      "Most unpleasant of all was the first minute when, on coming, happy and\n",
      "good-humored, from the theater, with a huge pear in his hand for his\n",
      "wife, he had not found his wife in the drawing-room, to his surprise had\n",
      "not found her in the study either, and saw her at last in her bedroom\n",
      "with the unlucky letter that revealed everything in her hand.\n",
      "\n",
      "She, his Dolly, forever fussing and worrying over household details, and\n",
      "limited in her ideas, as he considered, was sitting perfectly still with\n",
      "the letter in her hand, looking at him with an expression of horror,\n",
      "despair, and indignation.\n",
      "\n",
      "\"What's this? this?\" she asked, pointing to the letter.\n",
      "\n",
      "And at this recollection, Stepan Arkadyevitch, as is so often the case,\n",
      "was not so much annoyed at the fact itself as at the way in which he had\n",
      "met his wife's words.\n",
      "\n",
      "There happened to him at that instant what does happen to people when\n",
      "they are unexpectedly caught in something very disgraceful. He did not\n",
      "succeed in adapting his face to the position in which he was placed\n",
      "towards his wife by the discovery of his fault. Instead of being hurt,\n",
      "denying, defending himself, begging forgiveness, instead of remaining\n",
      "indifferent even--anything would have been better than what he did\n",
      "do--his face utterly involuntarily (reflex spinal action, reflected\n",
      "Stepan Arkadyevitch, who was fond of physiology)--utterly involuntarily\n",
      "assumed its habitual, good-humored, and therefore idiotic smile.\n",
      "\n",
      "This idiotic smile he could not forgive himself. Catching sight of that\n",
      "smile, Dolly shuddered as though at physical pain, broke out with her\n",
      "characteristic heat into a flood of cruel words, and rushed out of the\n",
      "room. Since then she had refused to see her husband.\n",
      "\n",
      "\"It's that idiotic smile that's to blame for it all,\" thought Stepan\n",
      "Arkadyevitch.\n",
      "\n",
      "\"But what's to be done? What's to be done?\" he said to himself in\n",
      "despair, and found no answer.\n",
      "\n",
      "\n",
      "\n",
      "Chapter 2\n",
      "\n",
      "\n",
      "Stepan Arkadyevitch was a truthful man in his relations with himself. He\n",
      "was incapable of deceiving himself and persuading himself that he\n",
      "repented of his conduct. He could not at this date repent of the fact\n",
      "that he, a handsome, susceptible man of thirty-four, was not in love\n",
      "with his wife, the mother of five living and two dead children, and only\n",
      "a year younger than himself. All he repented of was that he had not\n",
      "succeeded better in hiding it from his wife. But he felt all the\n",
      "difficulty of his position and was sorry for his wife, his children, and\n",
      "himself. Possibly he might have managed to conceal his sins better from\n",
      "his wife if he had anticipated that the knowledge of them would have had\n",
      "such an effect on her. He had never clearly thought out the subject, but\n",
      "he had vaguely conceived that his wife must long ago have suspected him\n",
      "of being unfaithful to her, and shut her eyes to the fact. He had even\n",
      "supposed that she, a worn-out woman no longer young or good-looking, and\n",
      "in no way remarkable or interesting, merely a good mother, ought from a\n",
      "sense of fairness to take an indulgent view. It had turned out quite the\n",
      "other way.\n",
      "\n",
      "\"Oh, it's awful! oh dear, oh dear! awful!\" Stepan Arkadyevitch kept\n",
      "repeating to himself, and he could think of nothing to be done. \"And how\n",
      "well things were going up till now! how well we got on! She was\n",
      "contented and happy in her children; I never interfered with her in\n",
      "anything; I let her manage the children and the house just as she liked.\n",
      "It's true it's bad _her_ having been a governess in our house. That's\n",
      "bad! There's something common, vulgar, in flirting with one's governess.\n",
      "But what a governess!\" (He vividly recalled the roguish black eyes of\n",
      "Mlle. Roland and her smile.) \"But after all, while she was in the house,\n",
      "I kept myself in hand. And the worst of it all is that she's already ...\n",
      "it seems as if ill-luck would have it so! Oh, oh! But what, what is to\n",
      "be done?\"\n",
      "\n",
      "There was no solution, but that universal solution which life gives to\n",
      "all questions, even the most complex and insoluble. That answer is: one\n",
      "must live in the needs of the day--that is, forget oneself. To forget\n",
      "himself in sleep was impossible now, at least till nighttime; he could\n",
      "not go back now to the music sung by the decanter-women; so he must\n",
      "forget himself in the dream of daily life.\n",
      "\n",
      "\"Then we shall see,\" Stepan Arkadyevitch said to himself, and getting up\n",
      "he put on a gray dressing-gown lined with blue silk, tied the tassels in\n",
      "a knot, and, drawing a deep breath of air into his broad, bare chest, he\n",
      "walked to the window with his usual confident step, turning out his feet\n",
      "that carried his full frame so easily. He pulled up the blind and rang\n",
      "the bell loudly. It was at once answered by the appearance of an old\n",
      "friend, his valet, Matvey, carrying his clothes, his boots, and a\n",
      "telegram. Matvey was followed by the barber with all the necessaries for\n",
      "shaving.\n",
      "\n",
      "\"Are there any papers from the office?\" asked Stepan Arkadyevitch,\n",
      "taking the telegram and seating himself at the looking-glass.\n",
      "\n",
      "\"On the table,\" replied Matvey, glancing with inquiring sympathy at his\n",
      "master; and, after a short pause, he added with a sly smile, \"They've\n",
      "sent from the carriage-jobbers.\"\n",
      "\n",
      "Stepan Arkadyevitch made no reply, he merely glanced at Matvey in the\n",
      "looking-glass. In the glance, in which their eyes met in the\n",
      "looking-glass, it was clear that they understood one another. Stepan\n",
      "Arkadyevitch's eyes asked: \"Why do you tell me that? don't you know?\"\n",
      "\n",
      "Matvey put his hands in his jacket pockets, thrust out one leg, and\n",
      "gazed silently, good-humoredly, with a faint smile, at his master.\n",
      "\n",
      "\"I told them to come on Sunday, and till then not to trouble you or\n",
      "themselves for nothing,\" he said. He had obviously prepared the sentence\n",
      "beforehand.\n",
      "\n",
      "Stepan Arkadyevitch saw Matvey wanted to make a joke and attract\n",
      "attention to himself. Tearing open the telegram, he read it through,\n",
      "guessing at the words, misspelt as they always are in telegrams, and his\n",
      "face brightened.\n",
      "\n",
      "\"Matvey, my sister Anna Arkadyevna will be here tomorrow,\" he said,\n",
      "checking for a minute the sleek, plump hand of the barber, cutting a\n",
      "pink path through his long, curly whiskers.\n",
      "\n",
      "\"Thank God!\" said Matvey, showing by this response that he, like his\n",
      "master, realized the significance of this arrival--that is, that Anna\n",
      "Arkadyevna, the sister he was so fond of, might bring about a\n",
      "reconciliation between husband and wife.\n",
      "\n",
      "\"Alone, or with her husband?\" inquired Matvey.\n",
      "\n",
      "Stepan Arkadyevitch could not answer, as the barber was at work on his\n",
      "upper lip, and he raised one finger. Matvey nodded at the looking-glass.\n",
      "\n",
      "\"Alone. Is the room to be got ready upstairs?\"\n",
      "\n",
      "\"Inform Darya Alexandrovna: where she orders.\"\n",
      "\n",
      "\"Darya Alexandrovna?\" Matvey repeated, as though in doubt.\n",
      "\n",
      "\"Yes, inform her. Here, take the telegram; give it to her, and then do\n"
     ]
    }
   ],
   "source": [
    "view_sentence_range = (0, 200)\n",
    "\n",
    "\"\"\"\n",
    "DON'T MODIFY ANYTHING IN THIS CELL\n",
    "\"\"\"\n",
    "import numpy as np\n",
    "\n",
    "print('Dataset Stats')\n",
    "print('Roughly the number of unique words: {}'.format(len({word: None for word in text.split()})))\n",
    "scenes = text.split('\\n\\n')\n",
    "print('Number of scenes: {}'.format(len(scenes)))\n",
    "sentence_count_scene = [scene.count('\\n') for scene in scenes]\n",
    "print('Average number of sentences in each scene: {}'.format(np.average(sentence_count_scene)))\n",
    "\n",
    "sentences = [sentence for scene in scenes for sentence in scene.split('\\n')]\n",
    "print('Number of lines: {}'.format(len(sentences)))\n",
    "word_count_sentence = [len(sentence.split()) for sentence in sentences]\n",
    "print('Average number of words in each line: {}'.format(np.average(word_count_sentence)))\n",
    "\n",
    "print()\n",
    "print('The sentences {} to {}:'.format(*view_sentence_range))\n",
    "print('\\n'.join(text.split('\\n')[view_sentence_range[0]:view_sentence_range[1]]))"
   ]
  },
  {
   "cell_type": "markdown",
   "metadata": {},
   "source": [
    "## Preprocess all the data and save it\n",
    "Running the code cell below will preprocess all the data and save it to file."
   ]
  },
  {
   "cell_type": "code",
   "execution_count": 6,
   "metadata": {
    "collapsed": true
   },
   "outputs": [],
   "source": [
    "\"\"\"\n",
    "DON'T MODIFY ANYTHING IN THIS CELL\n",
    "\"\"\"\n",
    "# Preprocess Training, Validation, and Testing Data\n",
    "preprocess_and_save_data(data_dir, token_lookup, create_lookup_tables)"
   ]
  },
  {
   "cell_type": "markdown",
   "metadata": {},
   "source": [
    "# Check Point\n",
    "This is your first checkpoint. If you ever decide to come back to this notebook or have to restart the notebook, you can start from here. The preprocessed data has been saved to disk."
   ]
  },
  {
   "cell_type": "code",
   "execution_count": 7,
   "metadata": {
    "collapsed": true
   },
   "outputs": [],
   "source": [
    "int_text, vocab_to_int, int_to_vocab, token_dict = pickle.load(open('preprocess.p', mode='rb'))"
   ]
  },
  {
   "cell_type": "code",
   "execution_count": 8,
   "metadata": {},
   "outputs": [
    {
     "data": {
      "text/plain": [
       "466523"
      ]
     },
     "execution_count": 8,
     "metadata": {},
     "output_type": "execute_result"
    }
   ],
   "source": [
    "len(int_text)"
   ]
  },
  {
   "cell_type": "markdown",
   "metadata": {},
   "source": [
    "## Build the Neural Network"
   ]
  },
  {
   "cell_type": "markdown",
   "metadata": {},
   "source": [
    "\n",
    "\n",
    "### Check the Version of TensorFlow and Access to GPU"
   ]
  },
  {
   "cell_type": "code",
   "execution_count": 9,
   "metadata": {},
   "outputs": [
    {
     "name": "stdout",
     "output_type": "stream",
     "text": [
      "TensorFlow Version: 1.2.0\n"
     ]
    },
    {
     "name": "stderr",
     "output_type": "stream",
     "text": [
      "/Users/Simon/anaconda3/envs/tensorflow/lib/python3.5/site-packages/ipykernel_launcher.py:14: UserWarning: No GPU found. Please use a GPU to train your neural network.\n",
      "  \n"
     ]
    }
   ],
   "source": [
    "\"\"\"\n",
    "DON'T MODIFY ANYTHING IN THIS CELL\n",
    "\"\"\"\n",
    "from distutils.version import LooseVersion\n",
    "import warnings\n",
    "import tensorflow as tf\n",
    "\n",
    "# Check TensorFlow Version\n",
    "assert LooseVersion(tf.__version__) >= LooseVersion('1.0'), 'Please use TensorFlow version 1.0 or newer'\n",
    "print('TensorFlow Version: {}'.format(tf.__version__))\n",
    "\n",
    "# Check for a GPU\n",
    "if not tf.test.gpu_device_name():\n",
    "    warnings.warn('No GPU found. Please use a GPU to train your neural network.')\n",
    "else:\n",
    "    print('Default GPU Device: {}'.format(tf.test.gpu_device_name()))"
   ]
  },
  {
   "cell_type": "markdown",
   "metadata": {},
   "source": [
    "### Input\n",
    "Implement the `get_inputs()` function to create TF Placeholders for the Neural Network.  It should create the following placeholders:\n",
    "- Input text placeholder named \"input\" using the [TF Placeholder](https://www.tensorflow.org/api_docs/python/tf/placeholder) `name` parameter.\n",
    "- Targets placeholder\n",
    "- Learning Rate placeholder\n",
    "\n",
    "Return the placeholders in the following tuple `(Input, Targets, LearningRate)`"
   ]
  },
  {
   "cell_type": "code",
   "execution_count": 10,
   "metadata": {
    "collapsed": true
   },
   "outputs": [],
   "source": [
    "def get_inputs():\n",
    "    \"\"\"\n",
    "    Create TF Placeholders for input, targets, and learning rate.\n",
    "    :return: Tuple (input, targets, learning rate)\n",
    "    \"\"\"\n",
    "    inputs = tf.placeholder(tf.int32, [None, None], name='input')\n",
    "    \n",
    "    targets = tf.placeholder(tf.int32,[None, None], name='targets')\n",
    "    \n",
    "    learning_rate = tf.placeholder(tf.float32, name='learning_rate')\n",
    "    \n",
    "    return (inputs, targets, learning_rate)\n"
   ]
  },
  {
   "cell_type": "markdown",
   "metadata": {},
   "source": [
    "### Build RNN Cell and Initialize\n",
    "Stack one or more [`BasicLSTMCells`](https://www.tensorflow.org/api_docs/python/tf/contrib/rnn/BasicLSTMCell) in a [`MultiRNNCell`](https://www.tensorflow.org/api_docs/python/tf/contrib/rnn/MultiRNNCell).\n",
    "- The Rnn size should be set using `rnn_size`\n",
    "- Initalize Cell State using the MultiRNNCell's [`zero_state()`](https://www.tensorflow.org/api_docs/python/tf/contrib/rnn/MultiRNNCell#zero_state) function\n",
    "    - Apply the name \"initial_state\" to the initial state using [`tf.identity()`](https://www.tensorflow.org/api_docs/python/tf/identity)\n",
    "\n",
    "Return the cell and initial state in the following tuple `(Cell, InitialState)`"
   ]
  },
  {
   "cell_type": "code",
   "execution_count": 11,
   "metadata": {
    "collapsed": true
   },
   "outputs": [],
   "source": [
    "def get_init_cell(batch_size, rnn_size):\n",
    "    \"\"\"\n",
    "    Create an RNN Cell and initialize it.\n",
    "    :param batch_size: Size of batches\n",
    "    :param rnn_size: Size of RNNs\n",
    "    :return: Tuple (cell, initialize state)\n",
    "    \"\"\"\n",
    "\n",
    "    num_layers = 2\n",
    "\n",
    "    lstm = tf.contrib.rnn.BasicLSTMCell(rnn_size)\n",
    "\n",
    "    #drop = tf.contrib.rnn.DropoutWrapper(lstm, output_keep_prob=keep_prob)\n",
    "    \n",
    "    cell = tf.contrib.rnn.MultiRNNCell([lstm])\n",
    "\n",
    "    initial_state = cell.zero_state(batch_size, tf.float32)\n",
    "    initial_state = tf.identity(initial_state, name='initial_state')\n",
    "    \n",
    "    \n",
    "    return (cell, initial_state)"
   ]
  },
  {
   "cell_type": "markdown",
   "metadata": {},
   "source": [
    "### Word Embedding\n",
    "Apply embedding to `input_data` using TensorFlow.  Return the embedded sequence."
   ]
  },
  {
   "cell_type": "code",
   "execution_count": 12,
   "metadata": {
    "collapsed": true
   },
   "outputs": [],
   "source": [
    "def get_embed(input_data, vocab_size, embed_dim):\n",
    "    \"\"\"\n",
    "    Create embedding for <input_data>.\n",
    "    :param input_data: TF placeholder for text input.\n",
    "    :param vocab_size: Number of words in vocabulary.\n",
    "    :param embed_dim: Number of embedding dimensions\n",
    "    :return: Embedded input.\n",
    "    \"\"\"\n",
    "    \n",
    "    embedding = tf.Variable(tf.random_uniform((vocab_size, embed_dim), -1, 1))\n",
    "    \n",
    "    embed = tf.nn.embedding_lookup(embedding, input_data)\n",
    "    \n",
    "    return embed\n"
   ]
  },
  {
   "cell_type": "markdown",
   "metadata": {},
   "source": [
    "### Build RNN\n",
    "You created a RNN Cell in the `get_init_cell()` function.  Time to use the cell to create a RNN.\n",
    "- Build the RNN using the [`tf.nn.dynamic_rnn()`](https://www.tensorflow.org/api_docs/python/tf/nn/dynamic_rnn)\n",
    " - Apply the name \"final_state\" to the final state using [`tf.identity()`](https://www.tensorflow.org/api_docs/python/tf/identity)\n",
    "\n",
    "Return the outputs and final_state state in the following tuple `(Outputs, FinalState)` "
   ]
  },
  {
   "cell_type": "code",
   "execution_count": 13,
   "metadata": {
    "collapsed": true
   },
   "outputs": [],
   "source": [
    "def build_rnn(cell, inputs):\n",
    "    \"\"\"\n",
    "    Create a RNN using a RNN Cell\n",
    "    :param cell: RNN Cell\n",
    "    :param inputs: Input text data\n",
    "    :return: Tuple (Outputs, Final State)\n",
    "    \"\"\"\n",
    "    \n",
    "    outputs, state = tf.nn.dynamic_rnn(cell, inputs, dtype=tf.float32)\n",
    "    \n",
    "    state = tf.identity(state, name='final_state')\n",
    "    \n",
    "    return (outputs, state)"
   ]
  },
  {
   "cell_type": "markdown",
   "metadata": {},
   "source": [
    "### Build the Neural Network\n",
    "Apply the functions you implemented above to:\n",
    "- Apply embedding to `input_data` using your `get_embed(input_data, vocab_size, embed_dim)` function.\n",
    "- Build RNN using `cell` and your `build_rnn(cell, inputs)` function.\n",
    "- Apply a fully connected layer with a linear activation and `vocab_size` as the number of outputs.\n",
    "\n",
    "Return the logits and final state in the following tuple (Logits, FinalState) "
   ]
  },
  {
   "cell_type": "code",
   "execution_count": 14,
   "metadata": {
    "collapsed": true
   },
   "outputs": [],
   "source": [
    "def build_nn(cell, rnn_size, input_data, vocab_size, embed_dim):\n",
    "    \"\"\"\n",
    "    Build part of the neural network\n",
    "    :param cell: RNN cell\n",
    "    :param rnn_size: Size of rnns\n",
    "    :param input_data: Input data\n",
    "    :param vocab_size: Vocabulary size\n",
    "    :param embed_dim: Number of embedding dimensions\n",
    "    :return: Tuple (Logits, FinalState)\n",
    "    \"\"\"\n",
    "    # TODO: Implement Function\n",
    "\n",
    "    embed = get_embed(input_data, vocab_size, embed_dim)\n",
    "\n",
    "    outputs, state = build_rnn(cell, embed)\n",
    "\n",
    "    logits = tf.contrib.layers.fully_connected(outputs, vocab_size, activation_fn=None)\n",
    "\n",
    "    return (logits, state)"
   ]
  },
  {
   "cell_type": "markdown",
   "metadata": {},
   "source": [
    "### Batches\n",
    "Implement `get_batches` to create batches of input and targets using `int_text`.  The batches should be a Numpy array with the shape `(number of batches, 2, batch size, sequence length)`. Each batch contains two elements:\n",
    "- The first element is a single batch of **input** with the shape `[batch size, sequence length]`\n",
    "- The second element is a single batch of **targets** with the shape `[batch size, sequence length]`\n",
    "\n",
    "If you can't fill the last batch with enough data, drop the last batch.\n",
    "\n",
    "For exmple, `get_batches([1, 2, 3, 4, 5, 6, 7, 8, 9, 10, 11, 12, 13, 14, 15, 16, 17, 18, 19, 20], 3, 2)` would return a Numpy array of the following:\n",
    "```\n",
    "[\n",
    "  # First Batch\n",
    "  [\n",
    "    # Batch of Input\n",
    "    [[ 1  2], [ 7  8], [13 14]]\n",
    "    # Batch of targets\n",
    "    [[ 2  3], [ 8  9], [14 15]]\n",
    "  ]\n",
    "\n",
    "  # Second Batch\n",
    "  [\n",
    "    # Batch of Input\n",
    "    [[ 3  4], [ 9 10], [15 16]]\n",
    "    # Batch of targets\n",
    "    [[ 4  5], [10 11], [16 17]]\n",
    "  ]\n",
    "\n",
    "  # Third Batch\n",
    "  [\n",
    "    # Batch of Input\n",
    "    [[ 5  6], [11 12], [17 18]]\n",
    "    # Batch of targets\n",
    "    [[ 6  7], [12 13], [18  1]]\n",
    "  ]\n",
    "]\n",
    "```\n",
    "\n",
    "Notice that the last target value in the last batch is the first input value of the first batch. In this case, `1`. This is a common technique used when creating sequence batches, although it is rather unintuitive."
   ]
  },
  {
   "cell_type": "code",
   "execution_count": 16,
   "metadata": {},
   "outputs": [],
   "source": [
    "def get_batches(int_text, batch_size, seq_length):\n",
    "    \"\"\"\n",
    "    Return batches of input and target\n",
    "    :param int_text: Text with the words replaced by their ids\n",
    "    :param batch_size: The size of batch\n",
    "    :param seq_length: The length of sequence\n",
    "    :return: A list where each item is a tuple of (batch of input, batch of target).\n",
    "    \"\"\"\n",
    "    n_batches = len(int_text) // (batch_size * seq_length)\n",
    "\n",
    "    # Drop the last few characters to make only full batches\n",
    "    xdata = np.array(int_text[: n_batches * batch_size * seq_length])\n",
    "    ydata = np.array(int_text[1: n_batches * batch_size * seq_length + 1])\n",
    "    \n",
    "    ydata[-1] = xdata[0]\n",
    "\n",
    "    x_batches = np.split(xdata.reshape(batch_size, -1), n_batches, 1)\n",
    "    y_batches = np.split(ydata.reshape(batch_size, -1), n_batches, 1)\n",
    "\n",
    "    return np.array(list(zip(x_batches, y_batches)))"
   ]
  },
  {
   "cell_type": "markdown",
   "metadata": {},
   "source": [
    "## Neural Network Training\n",
    "### Hyperparameters\n",
    "Tune the following parameters:\n",
    "\n",
    "- Set `num_epochs` to the number of epochs.\n",
    "- Set `batch_size` to the batch size.\n",
    "- Set `rnn_size` to the size of the RNNs.\n",
    "- Set `embed_dim` to the size of the embedding.\n",
    "- Set `seq_length` to the length of sequence.\n",
    "- Set `learning_rate` to the learning rate.\n",
    "- Set `show_every_n_batches` to the number of batches the neural network should print progress."
   ]
  },
  {
   "cell_type": "code",
   "execution_count": 17,
   "metadata": {
    "collapsed": true
   },
   "outputs": [],
   "source": [
    "# Number of Epochs\n",
    "num_epochs = 200\n",
    "# Batch Size\n",
    "batch_size = 256\n",
    "# RNN Size\n",
    "rnn_size = 512\n",
    "# Embedding Dimension Size\n",
    "embed_dim = 256\n",
    "# Sequence Length\n",
    "seq_length = 15\n",
    "# Learning Rate\n",
    "learning_rate = 0.001\n",
    "# Show stats for every n number of batches\n",
    "show_every_n_batches = 128\n",
    "\n",
    "\"\"\"\n",
    "DON'T MODIFY ANYTHING IN THIS CELL THAT IS BELOW THIS LINE\n",
    "\"\"\"\n",
    "save_dir = './save'"
   ]
  },
  {
   "cell_type": "markdown",
   "metadata": {},
   "source": [
    "### Build the Graph\n",
    "Build the graph using the neural network you implemented."
   ]
  },
  {
   "cell_type": "code",
   "execution_count": 18,
   "metadata": {
    "collapsed": true
   },
   "outputs": [],
   "source": [
    "\"\"\"\n",
    "DON'T MODIFY ANYTHING IN THIS CELL\n",
    "\"\"\"\n",
    "from tensorflow.contrib import seq2seq\n",
    "\n",
    "train_graph = tf.Graph()\n",
    "with train_graph.as_default():\n",
    "    vocab_size = len(int_to_vocab)\n",
    "    input_text, targets, lr = get_inputs()\n",
    "    input_data_shape = tf.shape(input_text)\n",
    "    cell, initial_state = get_init_cell(input_data_shape[0], rnn_size)\n",
    "    logits, final_state = build_nn(cell, rnn_size, input_text, vocab_size, embed_dim)\n",
    "\n",
    "    # Probabilities for generating words\n",
    "    probs = tf.nn.softmax(logits, name='probs')\n",
    "\n",
    "    # Loss function\n",
    "    cost = seq2seq.sequence_loss(\n",
    "        logits,\n",
    "        targets,\n",
    "        tf.ones([input_data_shape[0], input_data_shape[1]]))\n",
    "\n",
    "    # Optimizer\n",
    "    optimizer = tf.train.AdamOptimizer(lr)\n",
    "\n",
    "    # Gradient Clipping\n",
    "    gradients = optimizer.compute_gradients(cost)\n",
    "    capped_gradients = [(tf.clip_by_value(grad, -1., 1.), var) for grad, var in gradients if grad is not None]\n",
    "    train_op = optimizer.apply_gradients(capped_gradients)"
   ]
  },
  {
   "cell_type": "markdown",
   "metadata": {},
   "source": [
    "## Train\n",
    "Train the neural network on the preprocessed data.  If you have a hard time getting a good loss, check the [forms](https://discussions.udacity.com/) to see if anyone is having the same problem."
   ]
  },
  {
   "cell_type": "code",
   "execution_count": 95,
   "metadata": {},
   "outputs": [
    {
     "name": "stdout",
     "output_type": "stream",
     "text": [
      "Epoch   0 Batch    0/17   train_loss = 8.821\n",
      "Epoch   7 Batch    9/17   train_loss = 5.165\n",
      "Epoch  15 Batch    1/17   train_loss = 4.326\n",
      "Epoch  22 Batch   10/17   train_loss = 3.903\n",
      "Epoch  30 Batch    2/17   train_loss = 3.424\n",
      "Epoch  37 Batch   11/17   train_loss = 3.031\n",
      "Epoch  45 Batch    3/17   train_loss = 2.745\n",
      "Epoch  52 Batch   12/17   train_loss = 2.397\n",
      "Epoch  60 Batch    4/17   train_loss = 2.171\n",
      "Epoch  67 Batch   13/17   train_loss = 1.875\n",
      "Epoch  75 Batch    5/17   train_loss = 1.662\n",
      "Epoch  82 Batch   14/17   train_loss = 1.499\n",
      "Epoch  90 Batch    6/17   train_loss = 1.354\n",
      "Epoch  97 Batch   15/17   train_loss = 1.158\n",
      "Epoch 105 Batch    7/17   train_loss = 1.067\n",
      "Epoch 112 Batch   16/17   train_loss = 1.009\n",
      "Epoch 120 Batch    8/17   train_loss = 0.817\n",
      "Epoch 128 Batch    0/17   train_loss = 0.719\n",
      "Epoch 135 Batch    9/17   train_loss = 0.643\n",
      "Epoch 143 Batch    1/17   train_loss = 0.598\n",
      "Epoch 150 Batch   10/17   train_loss = 0.494\n",
      "Epoch 158 Batch    2/17   train_loss = 0.429\n",
      "Epoch 165 Batch   11/17   train_loss = 0.386\n",
      "Epoch 173 Batch    3/17   train_loss = 0.335\n",
      "Epoch 180 Batch   12/17   train_loss = 0.341\n",
      "Epoch 188 Batch    4/17   train_loss = 0.320\n",
      "Epoch 195 Batch   13/17   train_loss = 0.293\n",
      "Model Trained and Saved\n"
     ]
    }
   ],
   "source": [
    "\"\"\"\n",
    "DON'T MODIFY ANYTHING IN THIS CELL\n",
    "\"\"\"\n",
    "batches = get_batches(int_text, batch_size, seq_length)\n",
    "\n",
    "with tf.Session(graph=train_graph) as sess:\n",
    "    sess.run(tf.global_variables_initializer())\n",
    "\n",
    "    for epoch_i in range(num_epochs):\n",
    "        state = sess.run(initial_state, {input_text: batches[0][0]})\n",
    "\n",
    "        for batch_i, (x, y) in enumerate(batches):\n",
    "            feed = {\n",
    "                input_text: x,\n",
    "                targets: y,\n",
    "                initial_state: state,\n",
    "                lr: learning_rate}\n",
    "            train_loss, state, _ = sess.run([cost, final_state, train_op], feed)\n",
    "\n",
    "            # Show every <show_every_n_batches> batches\n",
    "            if (epoch_i * len(batches) + batch_i) % show_every_n_batches == 0:\n",
    "                print('Epoch {:>3} Batch {:>4}/{}   train_loss = {:.3f}'.format(\n",
    "                    epoch_i,\n",
    "                    batch_i,\n",
    "                    len(batches),\n",
    "                    train_loss))\n",
    "\n",
    "    # Save Model\n",
    "    saver = tf.train.Saver()\n",
    "    saver.save(sess, save_dir)\n",
    "    print('Model Trained and Saved')"
   ]
  },
  {
   "cell_type": "markdown",
   "metadata": {},
   "source": [
    "## Save Parameters\n",
    "Save `seq_length` and `save_dir` for generating a new TV script."
   ]
  },
  {
   "cell_type": "code",
   "execution_count": 96,
   "metadata": {
    "collapsed": true
   },
   "outputs": [],
   "source": [
    "\"\"\"\n",
    "DON'T MODIFY ANYTHING IN THIS CELL\n",
    "\"\"\"\n",
    "# Save parameters for checkpoint\n",
    "helper.save_params((seq_length, save_dir))"
   ]
  },
  {
   "cell_type": "markdown",
   "metadata": {},
   "source": [
    "# Checkpoint"
   ]
  },
  {
   "cell_type": "code",
   "execution_count": 97,
   "metadata": {
    "collapsed": true
   },
   "outputs": [],
   "source": [
    "\"\"\"\n",
    "DON'T MODIFY ANYTHING IN THIS CELL\n",
    "\"\"\"\n",
    "import tensorflow as tf\n",
    "import numpy as np\n",
    "import helper\n",
    "import problem_unittests as tests\n",
    "\n",
    "_, vocab_to_int, int_to_vocab, token_dict = helper.load_preprocess()\n",
    "seq_length, load_dir = helper.load_params()"
   ]
  },
  {
   "cell_type": "markdown",
   "metadata": {},
   "source": [
    "## Implement Generate Functions\n",
    "### Get Tensors\n",
    "Get tensors from `loaded_graph` using the function [`get_tensor_by_name()`](https://www.tensorflow.org/api_docs/python/tf/Graph#get_tensor_by_name).  Get the tensors using the following names:\n",
    "- \"input:0\"\n",
    "- \"initial_state:0\"\n",
    "- \"final_state:0\"\n",
    "- \"probs:0\"\n",
    "\n",
    "Return the tensors in the following tuple `(InputTensor, InitialStateTensor, FinalStateTensor, ProbsTensor)` "
   ]
  },
  {
   "cell_type": "code",
   "execution_count": 98,
   "metadata": {},
   "outputs": [
    {
     "name": "stdout",
     "output_type": "stream",
     "text": [
      "Tests Passed\n"
     ]
    }
   ],
   "source": [
    "def get_tensors(loaded_graph):\n",
    "    \"\"\"\n",
    "    Get input, initial state, final state, and probabilities tensor from <loaded_graph>\n",
    "    :param loaded_graph: TensorFlow graph loaded from file\n",
    "    :return: Tuple (InputTensor, InitialStateTensor, FinalStateTensor, ProbsTensor)\n",
    "    \"\"\"\n",
    "    # TODO: Implement Function\n",
    "    \n",
    "    InputTensor = tf.Graph.get_tensor_by_name(loaded_graph, name='input:0')\n",
    "    InitialStateTensor = tf.Graph.get_tensor_by_name(loaded_graph, name='initial_state:0')\n",
    "    FinalStateTensor = tf.Graph.get_tensor_by_name(loaded_graph, name='final_state:0')\n",
    "    ProbsTensor = tf.Graph.get_tensor_by_name(loaded_graph, name='probs:0')\n",
    "    \n",
    "    return (InputTensor, InitialStateTensor, FinalStateTensor, ProbsTensor)\n",
    "\n",
    "\n",
    "\"\"\"\n",
    "DON'T MODIFY ANYTHING IN THIS CELL THAT IS BELOW THIS LINE\n",
    "\"\"\"\n",
    "tests.test_get_tensors(get_tensors)"
   ]
  },
  {
   "cell_type": "markdown",
   "metadata": {},
   "source": [
    "### Choose Word\n",
    "Implement the `pick_word()` function to select the next word using `probabilities`."
   ]
  },
  {
   "cell_type": "code",
   "execution_count": 99,
   "metadata": {},
   "outputs": [
    {
     "name": "stdout",
     "output_type": "stream",
     "text": [
      "Tests Passed\n"
     ]
    }
   ],
   "source": [
    "def pick_word(probabilities, int_to_vocab):\n",
    "    \"\"\"\n",
    "    Pick the next word in the generated text\n",
    "    :param probabilities: Probabilites of the next word\n",
    "    :param int_to_vocab: Dictionary of word ids as the keys and words as the values\n",
    "    :return: String of the predicted word\n",
    "    \"\"\"\n",
    "    # TODO: Implement Function\n",
    "    return np.random.choice(list(int_to_vocab.values()), p=probabilities)\n",
    "\n",
    "\n",
    "\"\"\"\n",
    "DON'T MODIFY ANYTHING IN THIS CELL THAT IS BELOW THIS LINE\n",
    "\"\"\"\n",
    "tests.test_pick_word(pick_word)"
   ]
  },
  {
   "cell_type": "markdown",
   "metadata": {},
   "source": [
    "## Generate TV Script\n",
    "This will generate the TV script for you.  Set `gen_length` to the length of TV script you want to generate."
   ]
  },
  {
   "cell_type": "code",
   "execution_count": 100,
   "metadata": {},
   "outputs": [
    {
     "name": "stdout",
     "output_type": "stream",
     "text": [
      "moe_szyslak:(yelp of pain) ow.\n",
      "moe_szyslak:(horrified scream) uh-oh... oh dammit, made it easy to be.\n",
      "moe_szyslak: let's kick it a little sure likes kahlua and cream her.\n",
      "kent_brockman: senator abercrombie, channel six of springfield's beloved! /!\n",
      "homer_simpson:(up why) i used the\" flaming homer\". it's me! an unattended tap!\n",
      "kent_brockman: and his middle name our good friend.\n",
      "lenny_leonard: hey, i've been using it backward.\n",
      "homer_simpson: oh, now, let me just show you your beer, homer.\n",
      "manjula_nahasapeemapetilon: what about love.\n",
      "\n",
      "\n",
      "homer_simpson: ah, isn't that nice... homer, i was a lot happier before i invented it.\n",
      "barney_gumble:(pained) i'm gonna stop it. now get his hand, moe.\n",
      "moe_szyslak: hey, homer? they got the money you blew, aren'tcha?\n",
      "homer_simpson: what? you got that, i'd buy you a beer.\n",
      "barney_gumble:(horrified) oh, who are you, moe. you\n"
     ]
    }
   ],
   "source": [
    "gen_length = 200\n",
    "# homer_simpson, moe_szyslak, or Barney_Gumble\n",
    "prime_word = 'moe_szyslak'\n",
    "\n",
    "\"\"\"\n",
    "DON'T MODIFY ANYTHING IN THIS CELL THAT IS BELOW THIS LINE\n",
    "\"\"\"\n",
    "loaded_graph = tf.Graph()\n",
    "with tf.Session(graph=loaded_graph) as sess:\n",
    "    # Load saved model\n",
    "    loader = tf.train.import_meta_graph(load_dir + '.meta')\n",
    "    loader.restore(sess, load_dir)\n",
    "\n",
    "    # Get Tensors from loaded model\n",
    "    input_text, initial_state, final_state, probs = get_tensors(loaded_graph)\n",
    "\n",
    "    # Sentences generation setup\n",
    "    gen_sentences = [prime_word + ':']\n",
    "    prev_state = sess.run(initial_state, {input_text: np.array([[1]])})\n",
    "\n",
    "    # Generate sentences\n",
    "    for n in range(gen_length):\n",
    "        # Dynamic Input\n",
    "        dyn_input = [[vocab_to_int[word] for word in gen_sentences[-seq_length:]]]\n",
    "        dyn_seq_length = len(dyn_input[0])\n",
    "\n",
    "        # Get Prediction\n",
    "        probabilities, prev_state = sess.run(\n",
    "            [probs, final_state],\n",
    "            {input_text: dyn_input, initial_state: prev_state})\n",
    "        \n",
    "        pred_word = pick_word(probabilities[dyn_seq_length-1], int_to_vocab)\n",
    "\n",
    "        gen_sentences.append(pred_word)\n",
    "    \n",
    "    # Remove tokens\n",
    "    tv_script = ' '.join(gen_sentences)\n",
    "    for key, token in token_dict.items():\n",
    "        ending = ' ' if key in ['\\n', '(', '\"'] else ''\n",
    "        tv_script = tv_script.replace(' ' + token.lower(), key)\n",
    "    tv_script = tv_script.replace('\\n ', '\\n')\n",
    "    tv_script = tv_script.replace('( ', '(')\n",
    "        \n",
    "    print(tv_script)"
   ]
  },
  {
   "cell_type": "markdown",
   "metadata": {},
   "source": [
    "# The TV Script is Nonsensical\n",
    "It's ok if the TV script doesn't make any sense.  We trained on less than a megabyte of text.  In order to get good results, you'll have to use a smaller vocabulary or get more data.  Luckly there's more data!  As we mentioned in the begging of this project, this is a subset of [another dataset](https://www.kaggle.com/wcukierski/the-simpsons-by-the-data).  We didn't have you train on all the data, because that would take too long.  However, you are free to train your neural network on all the data.  After you complete the project, of course.\n",
    "# Submitting This Project\n",
    "When submitting this project, make sure to run all the cells before saving the notebook. Save the notebook file as \"dlnd_tv_script_generation.ipynb\" and save it as a HTML file under \"File\" -> \"Download as\". Include the \"helper.py\" and \"problem_unittests.py\" files in your submission."
   ]
  },
  {
   "cell_type": "code",
   "execution_count": null,
   "metadata": {
    "collapsed": true
   },
   "outputs": [],
   "source": []
  }
 ],
 "metadata": {
  "kernelspec": {
   "display_name": "Python 3",
   "language": "python",
   "name": "python3"
  },
  "language_info": {
   "codemirror_mode": {
    "name": "ipython",
    "version": 3
   },
   "file_extension": ".py",
   "mimetype": "text/x-python",
   "name": "python",
   "nbconvert_exporter": "python",
   "pygments_lexer": "ipython3",
   "version": "3.5.3"
  },
  "widgets": {
   "state": {},
   "version": "1.1.2"
  }
 },
 "nbformat": 4,
 "nbformat_minor": 1
}
